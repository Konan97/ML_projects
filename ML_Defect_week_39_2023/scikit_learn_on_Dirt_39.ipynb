{
  "nbformat": 4,
  "nbformat_minor": 0,
  "metadata": {
    "colab": {
      "provenance": [],
      "gpuType": "T4"
    },
    "kernelspec": {
      "name": "python3",
      "display_name": "Python 3"
    },
    "language_info": {
      "name": "python"
    },
    "accelerator": "GPU"
  },
  "cells": [
    {
      "cell_type": "markdown",
      "source": [
        "ML project steps\n",
        "1. Problem Definition\n",
        "2. Data Analysis\n",
        "3. Traininng\n",
        "4. Validation\n",
        "5. loop back to 3 until happy with model\n",
        "6. Use model in production"
      ],
      "metadata": {
        "id": "i2mw5GbLrtN0"
      }
    },
    {
      "cell_type": "markdown",
      "source": [
        "# Libraries and Setup Jargon\n",
        "Run the following cells to set up the notebook.\n"
      ],
      "metadata": {
        "id": "WHvr3hGNqGmS"
      }
    },
    {
      "cell_type": "code",
      "execution_count": 2,
      "metadata": {
        "id": "CgbDIF4Pp_r9"
      },
      "outputs": [],
      "source": [
        "# Sklearn and Pandas Setup\n",
        "import json\n",
        "import glob\n",
        "import pandas as pd\n",
        "import numpy as np\n",
        "import datetime as dt\n",
        "import re\n",
        "import os\n",
        "import matplotlib.pyplot as plt\n",
        "import seaborn as sns\n",
        "from matplotlib import cm\n",
        "from google.colab import drive\n",
        "from sklearn.model_selection import train_test_split"
      ]
    },
    {
      "cell_type": "code",
      "source": [
        "\n",
        "# random forest\n",
        "from sklearn import tree, metrics\n",
        "from sklearn.tree import DecisionTreeClassifier\n",
        "from sklearn.ensemble import RandomForestClassifier\n",
        "\n",
        "# xgboost\n",
        "from xgboost import XGBClassifier"
      ],
      "metadata": {
        "id": "yB304JYtoD9a"
      },
      "execution_count": 3,
      "outputs": []
    },
    {
      "cell_type": "code",
      "source": [
        "!apt update"
      ],
      "metadata": {
        "colab": {
          "base_uri": "https://localhost:8080/"
        },
        "id": "JdoFRYHeqRv8",
        "outputId": "3b3dad87-5741-4a4f-9c98-b9cae1e25aa8"
      },
      "execution_count": 4,
      "outputs": [
        {
          "output_type": "stream",
          "name": "stdout",
          "text": [
            "Get:1 http://security.ubuntu.com/ubuntu jammy-security InRelease [110 kB]\n",
            "Get:2 https://cloud.r-project.org/bin/linux/ubuntu jammy-cran40/ InRelease [3,626 B]\n",
            "Get:3 https://developer.download.nvidia.com/compute/cuda/repos/ubuntu2204/x86_64  InRelease [1,581 B]\n",
            "Hit:4 http://archive.ubuntu.com/ubuntu jammy InRelease\n",
            "Get:5 http://archive.ubuntu.com/ubuntu jammy-updates InRelease [119 kB]\n",
            "Hit:6 https://ppa.launchpadcontent.net/c2d4u.team/c2d4u4.0+/ubuntu jammy InRelease\n",
            "Get:7 http://security.ubuntu.com/ubuntu jammy-security/universe amd64 Packages [1,009 kB]\n",
            "Get:8 http://security.ubuntu.com/ubuntu jammy-security/main amd64 Packages [1,131 kB]\n",
            "Get:9 http://archive.ubuntu.com/ubuntu jammy-backports InRelease [109 kB]\n",
            "Get:10 https://developer.download.nvidia.com/compute/cuda/repos/ubuntu2204/x86_64  Packages [556 kB]\n",
            "Get:11 https://ppa.launchpadcontent.net/deadsnakes/ppa/ubuntu jammy InRelease [18.1 kB]\n",
            "Get:12 http://archive.ubuntu.com/ubuntu jammy-updates/main amd64 Packages [1,398 kB]\n",
            "Get:13 https://ppa.launchpadcontent.net/graphics-drivers/ppa/ubuntu jammy InRelease [24.3 kB]\n",
            "Get:14 http://archive.ubuntu.com/ubuntu jammy-updates/universe amd64 Packages [1,274 kB]\n",
            "Hit:15 https://ppa.launchpadcontent.net/ubuntugis/ppa/ubuntu jammy InRelease\n",
            "Get:16 https://ppa.launchpadcontent.net/deadsnakes/ppa/ubuntu jammy/main amd64 Packages [27.7 kB]\n",
            "Get:17 https://ppa.launchpadcontent.net/graphics-drivers/ppa/ubuntu jammy/main amd64 Packages [40.1 kB]\n",
            "Fetched 5,821 kB in 4s (1,585 kB/s)\n",
            "Reading package lists... Done\n",
            "Building dependency tree... Done\n",
            "Reading state information... Done\n",
            "22 packages can be upgraded. Run 'apt list --upgradable' to see them.\n"
          ]
        }
      ]
    },
    {
      "cell_type": "code",
      "source": [
        "!apt upgrade"
      ],
      "metadata": {
        "colab": {
          "base_uri": "https://localhost:8080/"
        },
        "id": "nYuMLGEjqRWA",
        "outputId": "00fad076-e259-4f87-92a9-6c5dfc5692de"
      },
      "execution_count": 5,
      "outputs": [
        {
          "output_type": "stream",
          "name": "stdout",
          "text": [
            "Reading package lists... Done\n",
            "Building dependency tree... Done\n",
            "Reading state information... Done\n",
            "Calculating upgrade... Done\n",
            "The following packages have been kept back:\n",
            "  libcudnn8 libcudnn8-dev libnccl-dev libnccl2\n",
            "The following packages will be upgraded:\n",
            "  base-files binutils binutils-common binutils-x86-64-linux-gnu cuda-keyring\n",
            "  cuda-toolkit-config-common distro-info-data libbinutils libc-bin libcap2 libctf-nobfd0 libctf0\n",
            "  libldap-2.5-0 libssl-dev libssl3 libudev1 linux-libc-dev openssl\n",
            "18 upgraded, 0 newly installed, 0 to remove and 4 not upgraded.\n",
            "Need to get 11.3 MB of archives.\n",
            "After this operation, 67.6 kB of additional disk space will be used.\n",
            "Get:1 http://security.ubuntu.com/ubuntu jammy-security/main amd64 libssl-dev amd64 3.0.2-0ubuntu1.12 [2,373 kB]\n",
            "Get:2 https://developer.download.nvidia.com/compute/cuda/repos/ubuntu2204/x86_64  cuda-keyring 1.1-1 [4,332 B]\n",
            "Get:3 https://developer.download.nvidia.com/compute/cuda/repos/ubuntu2204/x86_64  cuda-toolkit-config-common 12.3.52-1 [16.4 kB]\n",
            "Get:4 http://archive.ubuntu.com/ubuntu jammy-updates/main amd64 base-files amd64 12ubuntu4.4 [62.6 kB]\n",
            "Get:5 http://security.ubuntu.com/ubuntu jammy-security/main amd64 libssl3 amd64 3.0.2-0ubuntu1.12 [1,901 kB]\n",
            "Get:6 http://security.ubuntu.com/ubuntu jammy-security/main amd64 openssl amd64 3.0.2-0ubuntu1.12 [1,182 kB]\n",
            "Get:7 http://archive.ubuntu.com/ubuntu jammy-updates/main amd64 libc-bin amd64 2.35-0ubuntu3.4 [706 kB]\n",
            "Get:8 http://archive.ubuntu.com/ubuntu jammy-updates/main amd64 libcap2 amd64 1:2.44-1ubuntu0.22.04.1 [18.3 kB]\n",
            "Get:9 http://archive.ubuntu.com/ubuntu jammy-updates/main amd64 libudev1 amd64 249.11-0ubuntu3.10 [78.0 kB]\n",
            "Get:10 http://archive.ubuntu.com/ubuntu jammy-updates/main amd64 distro-info-data all 0.52ubuntu0.5 [5,030 B]\n",
            "Get:11 http://archive.ubuntu.com/ubuntu jammy-updates/main amd64 libctf0 amd64 2.38-4ubuntu2.3 [103 kB]\n",
            "Get:12 http://archive.ubuntu.com/ubuntu jammy-updates/main amd64 libctf-nobfd0 amd64 2.38-4ubuntu2.3 [107 kB]\n",
            "Get:13 http://archive.ubuntu.com/ubuntu jammy-updates/main amd64 binutils-x86-64-linux-gnu amd64 2.38-4ubuntu2.3 [2,327 kB]\n",
            "Get:14 http://archive.ubuntu.com/ubuntu jammy-updates/main amd64 libbinutils amd64 2.38-4ubuntu2.3 [662 kB]\n",
            "Get:15 http://archive.ubuntu.com/ubuntu jammy-updates/main amd64 binutils amd64 2.38-4ubuntu2.3 [3,190 B]\n",
            "Get:16 http://archive.ubuntu.com/ubuntu jammy-updates/main amd64 binutils-common amd64 2.38-4ubuntu2.3 [222 kB]\n",
            "Get:17 http://archive.ubuntu.com/ubuntu jammy-updates/main amd64 libldap-2.5-0 amd64 2.5.16+dfsg-0ubuntu0.22.04.1 [183 kB]\n",
            "Get:18 http://archive.ubuntu.com/ubuntu jammy-updates/main amd64 linux-libc-dev amd64 5.15.0-87.97 [1,339 kB]\n",
            "Fetched 11.3 MB in 2s (4,553 kB/s)\n",
            "Preconfiguring packages ...\n",
            "(Reading database ... 120874 files and directories currently installed.)\n",
            "Preparing to unpack .../base-files_12ubuntu4.4_amd64.deb ...\n",
            "Unpacking base-files (12ubuntu4.4) over (12ubuntu4.3) ...\n",
            "Setting up base-files (12ubuntu4.4) ...\n",
            "Installing new version of config file /etc/issue ...\n",
            "Installing new version of config file /etc/issue.net ...\n",
            "Installing new version of config file /etc/lsb-release ...\n",
            "(Reading database ... 120874 files and directories currently installed.)\n",
            "Preparing to unpack .../libc-bin_2.35-0ubuntu3.4_amd64.deb ...\n",
            "Unpacking libc-bin (2.35-0ubuntu3.4) over (2.35-0ubuntu3.1) ...\n",
            "Setting up libc-bin (2.35-0ubuntu3.4) ...\n",
            "/sbin/ldconfig.real: /usr/local/lib/libtbbbind.so.3 is not a symbolic link\n",
            "\n",
            "/sbin/ldconfig.real: /usr/local/lib/libtbb.so.12 is not a symbolic link\n",
            "\n",
            "/sbin/ldconfig.real: /usr/local/lib/libtbbmalloc.so.2 is not a symbolic link\n",
            "\n",
            "/sbin/ldconfig.real: /usr/local/lib/libtbbbind_2_5.so.3 is not a symbolic link\n",
            "\n",
            "/sbin/ldconfig.real: /usr/local/lib/libtbbmalloc_proxy.so.2 is not a symbolic link\n",
            "\n",
            "/sbin/ldconfig.real: /usr/local/lib/libtbbbind_2_0.so.3 is not a symbolic link\n",
            "\n",
            "(Reading database ... 120874 files and directories currently installed.)\n",
            "Preparing to unpack .../libcap2_1%3a2.44-1ubuntu0.22.04.1_amd64.deb ...\n",
            "Unpacking libcap2:amd64 (1:2.44-1ubuntu0.22.04.1) over (1:2.44-1build3) ...\n",
            "Setting up libcap2:amd64 (1:2.44-1ubuntu0.22.04.1) ...\n",
            "(Reading database ... 120874 files and directories currently installed.)\n",
            "Preparing to unpack .../libssl-dev_3.0.2-0ubuntu1.12_amd64.deb ...\n",
            "Unpacking libssl-dev:amd64 (3.0.2-0ubuntu1.12) over (3.0.2-0ubuntu1.10) ...\n",
            "Preparing to unpack .../libssl3_3.0.2-0ubuntu1.12_amd64.deb ...\n",
            "Unpacking libssl3:amd64 (3.0.2-0ubuntu1.12) over (3.0.2-0ubuntu1.10) ...\n",
            "Setting up libssl3:amd64 (3.0.2-0ubuntu1.12) ...\n",
            "(Reading database ... 120874 files and directories currently installed.)\n",
            "Preparing to unpack .../libudev1_249.11-0ubuntu3.10_amd64.deb ...\n",
            "Unpacking libudev1:amd64 (249.11-0ubuntu3.10) over (249.11-0ubuntu3.9) ...\n",
            "Setting up libudev1:amd64 (249.11-0ubuntu3.10) ...\n",
            "(Reading database ... 120874 files and directories currently installed.)\n",
            "Preparing to unpack .../00-distro-info-data_0.52ubuntu0.5_all.deb ...\n",
            "Unpacking distro-info-data (0.52ubuntu0.5) over (0.52ubuntu0.4) ...\n",
            "Preparing to unpack .../01-openssl_3.0.2-0ubuntu1.12_amd64.deb ...\n",
            "Unpacking openssl (3.0.2-0ubuntu1.12) over (3.0.2-0ubuntu1.10) ...\n",
            "Preparing to unpack .../02-libctf0_2.38-4ubuntu2.3_amd64.deb ...\n",
            "Unpacking libctf0:amd64 (2.38-4ubuntu2.3) over (2.38-4ubuntu2.2) ...\n",
            "Preparing to unpack .../03-libctf-nobfd0_2.38-4ubuntu2.3_amd64.deb ...\n",
            "Unpacking libctf-nobfd0:amd64 (2.38-4ubuntu2.3) over (2.38-4ubuntu2.2) ...\n",
            "Preparing to unpack .../04-binutils-x86-64-linux-gnu_2.38-4ubuntu2.3_amd64.deb ...\n",
            "Unpacking binutils-x86-64-linux-gnu (2.38-4ubuntu2.3) over (2.38-4ubuntu2.2) ...\n",
            "Preparing to unpack .../05-libbinutils_2.38-4ubuntu2.3_amd64.deb ...\n",
            "Unpacking libbinutils:amd64 (2.38-4ubuntu2.3) over (2.38-4ubuntu2.2) ...\n",
            "Preparing to unpack .../06-binutils_2.38-4ubuntu2.3_amd64.deb ...\n",
            "Unpacking binutils (2.38-4ubuntu2.3) over (2.38-4ubuntu2.2) ...\n",
            "Preparing to unpack .../07-binutils-common_2.38-4ubuntu2.3_amd64.deb ...\n",
            "Unpacking binutils-common:amd64 (2.38-4ubuntu2.3) over (2.38-4ubuntu2.2) ...\n",
            "Preparing to unpack .../08-cuda-keyring_1.1-1_all.deb ...\n",
            "Unpacking cuda-keyring (1.1-1) over (1.0-1) ...\n",
            "Preparing to unpack .../09-cuda-toolkit-config-common_12.3.52-1_all.deb ...\n",
            "Unpacking cuda-toolkit-config-common (12.3.52-1) over (12.1.105-1) ...\n",
            "Preparing to unpack .../10-libldap-2.5-0_2.5.16+dfsg-0ubuntu0.22.04.1_amd64.deb ...\n",
            "Unpacking libldap-2.5-0:amd64 (2.5.16+dfsg-0ubuntu0.22.04.1) over (2.5.14+dfsg-0ubuntu0.22.04.2) ...\n",
            "Preparing to unpack .../11-linux-libc-dev_5.15.0-87.97_amd64.deb ...\n",
            "Unpacking linux-libc-dev:amd64 (5.15.0-87.97) over (5.15.0-75.82) ...\n",
            "Setting up cuda-toolkit-config-common (12.3.52-1) ...\n",
            "Setting up distro-info-data (0.52ubuntu0.5) ...\n",
            "Setting up binutils-common:amd64 (2.38-4ubuntu2.3) ...\n",
            "Setting up linux-libc-dev:amd64 (5.15.0-87.97) ...\n",
            "Setting up libctf-nobfd0:amd64 (2.38-4ubuntu2.3) ...\n",
            "Setting up libldap-2.5-0:amd64 (2.5.16+dfsg-0ubuntu0.22.04.1) ...\n",
            "Setting up cuda-keyring (1.1-1) ...\n",
            "Setting up libssl-dev:amd64 (3.0.2-0ubuntu1.12) ...\n",
            "Setting up libbinutils:amd64 (2.38-4ubuntu2.3) ...\n",
            "Setting up openssl (3.0.2-0ubuntu1.12) ...\n",
            "Setting up libctf0:amd64 (2.38-4ubuntu2.3) ...\n",
            "Setting up binutils-x86-64-linux-gnu (2.38-4ubuntu2.3) ...\n",
            "Setting up binutils (2.38-4ubuntu2.3) ...\n",
            "Processing triggers for libc-bin (2.35-0ubuntu3.4) ...\n",
            "/sbin/ldconfig.real: /usr/local/lib/libtbbbind.so.3 is not a symbolic link\n",
            "\n",
            "/sbin/ldconfig.real: /usr/local/lib/libtbb.so.12 is not a symbolic link\n",
            "\n",
            "/sbin/ldconfig.real: /usr/local/lib/libtbbmalloc.so.2 is not a symbolic link\n",
            "\n",
            "/sbin/ldconfig.real: /usr/local/lib/libtbbbind_2_5.so.3 is not a symbolic link\n",
            "\n",
            "/sbin/ldconfig.real: /usr/local/lib/libtbbmalloc_proxy.so.2 is not a symbolic link\n",
            "\n",
            "/sbin/ldconfig.real: /usr/local/lib/libtbbbind_2_0.so.3 is not a symbolic link\n",
            "\n",
            "Processing triggers for man-db (2.10.2-1) ...\n"
          ]
        }
      ]
    },
    {
      "cell_type": "markdown",
      "source": [
        "# **Part I:** Dirt vs rest Data Preprocessing and Modeling in `scikit-learn`"
      ],
      "metadata": {
        "id": "qMo_wC--qWAg"
      }
    },
    {
      "cell_type": "markdown",
      "source": [
        "## **1.1** Data Loading and Preprocessing\n"
      ],
      "metadata": {
        "id": "Ch2qNb9DqedY"
      }
    },
    {
      "cell_type": "code",
      "source": [
        "path_39 = '/content/Defects_week_39.csv'\n",
        "path_k = '/content/Defect Key.csv'\n",
        "df_39 = pd.read_csv(path_39)\n",
        "df_dk = pd.read_csv(path_k)"
      ],
      "metadata": {
        "id": "okoxNirgqbvq"
      },
      "execution_count": 9,
      "outputs": []
    },
    {
      "cell_type": "code",
      "source": [
        "df_39"
      ],
      "metadata": {
        "id": "YPo3gdNKr4kf"
      },
      "execution_count": null,
      "outputs": []
    },
    {
      "cell_type": "code",
      "source": [
        "df_dk"
      ],
      "metadata": {
        "id": "i1tzu33Cs2Zl"
      },
      "execution_count": null,
      "outputs": []
    },
    {
      "cell_type": "code",
      "source": [
        "dict = {\"B640\": \"Passenger side nose\", \"B632\": \"Pass. side front door (top ext)\", \"B654\": \"Right recharge lid (ext)\",\n",
        "        \"B616\": \"Right Bottom Quadrant roof\", \"B628\": \"Driver tail end\", \"B661\": \"Bottom driver's b-pillar\", \"B615\": \"Right Top Quadrant roof\",\n",
        "        \"B657\": \"Rear driver door opening  (int)\", \"B641\": \"Passenger side tail\", \"B627\": \"Driver side C pillar\", \"B618\": \"(Top) Right Side Lid (ext)\",\n",
        "        \"B636\": \"Pass. side rear door (top ext)\", \"B638\": \"Pass. side rear door (bottom ext)\", \"B620\": \"(Top) Left Side Lid (int)\",\n",
        "        \"B614\": \"Left Bottom Quadrant roof\", \"B658\": \"Front passenger door opening  (int)\", \"B613\": \"Left Top Quadrant roof\",\n",
        "        \"B662\": \"Top passenger b-pillar\", \"B621\": \"Driver side nose\", \"B612\": \"Left Side hood (int)\", \"B707\": \"Right mid roof\",\n",
        "        \"B660\": \"Top driver's b-pillar\", \"B659\": \"Rear passenger door opening  (int)\", \"B623\": \"Driver side door (top;ext)\",\n",
        "        \"B629\": \"Driver side rear door (top ext)\", \"B644\": \"Rear passenger side trunk (ext)\", \"B691\": \"Left rear side\", \"B692\": \"Right rear side\",\n",
        "        \"B655\": \"Front door opening -frame (int)\", \"B611\": \"Right Side hood (int)\", \"B634\": \"Pass. side front door (bot ext)\",\n",
        "        \"B619\": \"(Top) Right Side Lid (int)\", \"B610\": \"Right Side hood (ext)\", \"B609\": \"Left Side hood (ext)\", \"B663\": \"Bottom passenger b-pillar\",\n",
        "        \"B705\": \"Left mid roof\", \"B704\": \"Right Cpillar, A-pillar, mid roof\", \"B633\": \"Pass. side front door (top int)\", \"B714\": \"Left C pillar\",\n",
        "        \"B639\": \"Pass. side rear door (bottom int)\", \"B642\": \"Rear driver side trunk (ext)\", \"B637\": \"Pass. side rear door (top int)\",\n",
        "        \"B617\": \"(Top) Left Side Lid (ext)\", \"B708\": \"Right A-pillar\", \"B624\": \"Driver side door (bottom;ext)\", \"B706\": \"Left A pillar\",\n",
        "        \"B631\": \"Driver side rear door (bottom ext)\", \"B700\": \"Right side top lid\", \"B699\": \"Left side top lid\", \"B695\": \"Driver side rear door (top int)\",\n",
        "        \"B759\": \"V536 RIGHT SIDE HOOD\", \"B747\": \"V536 LEFT FRONT DOOR PANEL\", \"B778\": \"V536 LEFT NOSE\", \"B748\": \"V536 LEFT REAR DOOR PANEL\",\n",
        "        \"B741\": \"V536 RIGHT FRONT DOOR THRESHOLD\", \"B728\": \"V536 RIGHT B PILLAR INTERIOR TOP\", \"B742\": \"V536 RIGHT REAR DOOR THRESHOLD\",\n",
        "        \"B757\": \"V536 RIGHT REAR TRUNK PANEL\", \"B783\": \"Tail Gate\", \"B746\": \"V536 RIGHT REAR QUARTER PANEL\", \"B743\": \"V536 LEFT REAR DOOR THRESHOLD\",\n",
        "        \"B753\": \"V536 RIGHT FRONT DOOR PANEL\", \"B731\": \"V536 LEFT B PILLAR INTERIOR TOP\", \"B754\": \"V536 RIGHT REAR DOOR PANEL\",\n",
        "        \"B758\": \"V536 RIGHT REAR TRUNK WINDOW PANEL\", \"B653\": \"Right recharge lid (int)\", \"B755\": \"V536 RIGHT FRONT DOOR WINDOW PANEL\",\n",
        "        \"B750\": \"V536 LEFT REAR DOOR WINDOW PANEL\", \"B751\": \"V536 LEFT REAR TRUNK WINDOW PANEL\", \"B779\": \"V536 RIGHT NOSE\"}"
      ],
      "metadata": {
        "id": "uoAK8vL3tJe-"
      },
      "execution_count": 10,
      "outputs": []
    },
    {
      "cell_type": "code",
      "source": [
        "df_39['Fault Area Code'] = df_39['Fault Area Code'].str[0:4].map(dict)"
      ],
      "metadata": {
        "id": "KR_RUDq8uojT"
      },
      "execution_count": 11,
      "outputs": []
    },
    {
      "cell_type": "code",
      "source": [
        "df_39"
      ],
      "metadata": {
        "id": "aWM5ee1juyRR"
      },
      "execution_count": null,
      "outputs": []
    },
    {
      "cell_type": "markdown",
      "source": [
        "## **1.2** EDA\n",
        "\n",
        "Exploratory Data Analysis (EDA) is an approach to analyzing data sets to summarize their main characteristics, often with visual methods. A statistical model can be used or not, but primarily EDA is for seeing what the data can tell us beyond the formal modeling or hypothesis testing task."
      ],
      "metadata": {
        "id": "2gZNeTDNu_jh"
      }
    },
    {
      "cell_type": "code",
      "source": [
        "df_combine = df_39.merge(df_dk, how='left', left_on= 'Fault Area Code', right_on = 'ATACQ',copy=False)"
      ],
      "metadata": {
        "id": "MvbySYrBvDGU"
      },
      "execution_count": 12,
      "outputs": []
    },
    {
      "cell_type": "code",
      "source": [
        "df_combine.info()"
      ],
      "metadata": {
        "id": "aIbweEFSvJEl"
      },
      "execution_count": null,
      "outputs": []
    },
    {
      "cell_type": "code",
      "source": [
        "df_combine.drop(columns=['Link Timestamp', 'Unnamed: 13', 'Unnamed: 0','ATACQ Item ID', 'Rfid', 'ATACQ', 'ALL', 'VLOOKUP(M2,$B$3:$F$103,2,0)'], inplace=True)"
      ],
      "metadata": {
        "id": "0P-_yecIxeJa"
      },
      "execution_count": 13,
      "outputs": []
    },
    {
      "cell_type": "code",
      "source": [
        "df_combine = df_combine.dropna()"
      ],
      "metadata": {
        "id": "Ss45q0q8yC7c"
      },
      "execution_count": 14,
      "outputs": []
    },
    {
      "cell_type": "markdown",
      "source": [
        "## **1.3** Feature Engineering\n",
        "\n",
        "Feature engineering is the process of applying domain knowledge to extract features from raw data via data mining techniques. These features can be used to improve the performance of machine learning algorithms."
      ],
      "metadata": {
        "id": "AHUmon0KyTYe"
      }
    },
    {
      "cell_type": "markdown",
      "source": [
        "### **1.3.2** One Hot Encoding\n",
        "One hot encoding is a process by which categorical variables are converted into a form that could be provided to ML algorithms to do a better job in prediction. With one-hot encoding, we convert each categorical value into a new categorical column and assign a binary value of 1 or 0 to those columns.\n",
        "\n",
        "One way to one-hot encode in Pandas is by using `pd.get_dummies()` . The documentation can be found [here](https://pandas.pydata.org/docs/reference/api/pandas.get_dummies.html)."
      ],
      "metadata": {
        "id": "ZdFcnV-CBYUw"
      }
    },
    {
      "cell_type": "code",
      "source": [
        "df_combine.info()"
      ],
      "metadata": {
        "colab": {
          "base_uri": "https://localhost:8080/"
        },
        "id": "3K1KnhldBhfd",
        "outputId": "3dee505e-83fb-43cc-9fa7-6de489cd6b24"
      },
      "execution_count": 15,
      "outputs": [
        {
          "output_type": "stream",
          "name": "stdout",
          "text": [
            "<class 'pandas.core.frame.DataFrame'>\n",
            "Int64Index: 81649 entries, 0 to 85626\n",
            "Data columns (total 17 columns):\n",
            " #   Column                   Non-Null Count  Dtype \n",
            "---  ------                   --------------  ----- \n",
            " 0   Topcoat Color            81649 non-null  int64 \n",
            " 1   Primer Color             81649 non-null  int64 \n",
            " 2   Clearcoat Color          81649 non-null  object\n",
            " 3   ATACQ Item English Desc  81649 non-null  object\n",
            " 4   Fault Area Code          81649 non-null  object\n",
            " 5   Graphical Code Loc Desc  81649 non-null  object\n",
            " 6   Int-ext                  81649 non-null  object\n",
            " 7   D/L - P/R                81649 non-null  object\n",
            " 8   L/R                      81649 non-null  object\n",
            " 9   H-V                      81649 non-null  object\n",
            " 10  Panel                    81649 non-null  object\n",
            " 11  Primer                   81649 non-null  object\n",
            " 12  BC Int                   81649 non-null  object\n",
            " 13  BC Ext 1                 81649 non-null  object\n",
            " 14  BC Ext 2                 81649 non-null  object\n",
            " 15  CC Int                   81649 non-null  object\n",
            " 16  CC Ext                   81649 non-null  object\n",
            "dtypes: int64(2), object(15)\n",
            "memory usage: 11.2+ MB\n"
          ]
        }
      ]
    },
    {
      "cell_type": "code",
      "source": [
        "df_combine_copy = df_combine.copy()"
      ],
      "metadata": {
        "id": "CF9QS-eIyXRN"
      },
      "execution_count": 16,
      "outputs": []
    },
    {
      "cell_type": "code",
      "source": [
        "df_combine_copy = pd.get_dummies(df_combine_copy, columns=['H-V', 'Int-ext', 'L/R', 'D/L - P/R','Primer', 'BC Int', 'BC Ext 1', 'BC Ext 2', 'CC Int','CC Ext', 'Topcoat Color', 'Primer Color', 'Clearcoat Color'])"
      ],
      "metadata": {
        "id": "Si7v-q77Bc4I"
      },
      "execution_count": 17,
      "outputs": []
    },
    {
      "cell_type": "code",
      "source": [
        "df_combine_copy"
      ],
      "metadata": {
        "colab": {
          "base_uri": "https://localhost:8080/",
          "height": 0
        },
        "id": "gnzzWyXpCPsc",
        "outputId": "c2e92481-4f74-4ae3-8eb5-111402116b69"
      },
      "execution_count": 18,
      "outputs": [
        {
          "output_type": "execute_result",
          "data": {
            "text/plain": [
              "        ATACQ Item English Desc                      Fault Area Code  \\\n",
              "0                DIRT (TOPCOAT)      Front door opening -frame (int)   \n",
              "1                DIRT (TOPCOAT)      Front door opening -frame (int)   \n",
              "2                   EC BOIL OUT  Front passenger door opening  (int)   \n",
              "3                   EC BOIL OUT  Front passenger door opening  (int)   \n",
              "4                DIRT (TOPCOAT)                  Passenger side nose   \n",
              "...                         ...                                  ...   \n",
              "85622            DIRT (TOPCOAT)                     Driver side nose   \n",
              "85623  DIRT (PRIMER INSPECTION)                      Driver tail end   \n",
              "85624  DIRT (PRIMER INSPECTION)                      Driver tail end   \n",
              "85625  DIRT (PRIMER INSPECTION)      Pass. side front door (top ext)   \n",
              "85626  DIRT (PRIMER INSPECTION)      Pass. side front door (top ext)   \n",
              "\n",
              "      Graphical Code Loc Desc        Panel  H-V_H  H-V_V  Int-ext_ext  \\\n",
              "0                        DIRT  L1 Door Int      1      0            0   \n",
              "1                        DIRT  L1 Door Int      1      0            0   \n",
              "2                 EC BOIL OUT  L1 Door Int      1      0            0   \n",
              "3                 EC BOIL OUT  L1 Door Int      1      0            0   \n",
              "4                        DIRT          RFF      0      1            1   \n",
              "...                       ...          ...    ...    ...          ...   \n",
              "85622                    DIRT          LFF      0      1            1   \n",
              "85623                    DIRT         LQTR      0      1            1   \n",
              "85624                    DIRT         LQTR      0      1            1   \n",
              "85625                    DIRT      R1 Door      0      1            1   \n",
              "85626                    DIRT      R1 Door      0      1            1   \n",
              "\n",
              "       Int-ext_int  L/R_L  L/R_R  ...  Topcoat Color_731  Topcoat Color_735  \\\n",
              "0                1      1      0  ...                  0                  0   \n",
              "1                1      1      0  ...                  0                  0   \n",
              "2                1      0      1  ...                  0                  0   \n",
              "3                1      0      1  ...                  0                  0   \n",
              "4                0      0      1  ...                  0                  0   \n",
              "...            ...    ...    ...  ...                ...                ...   \n",
              "85622            0      1      0  ...                  0                  0   \n",
              "85623            0      1      0  ...                  0                  0   \n",
              "85624            0      1      0  ...                  0                  0   \n",
              "85625            0      0      1  ...                  0                  0   \n",
              "85626            0      0      1  ...                  0                  0   \n",
              "\n",
              "       Topcoat Color_736  Topcoat Color_740  Primer Color_0  Primer Color_915  \\\n",
              "0                      0                  0               0                 0   \n",
              "1                      0                  0               0                 0   \n",
              "2                      0                  0               1                 0   \n",
              "3                      0                  0               1                 0   \n",
              "4                      0                  0               0                 1   \n",
              "...                  ...                ...             ...               ...   \n",
              "85622                  0                  0               0                 1   \n",
              "85623                  0                  0               0                 1   \n",
              "85624                  0                  0               0                 1   \n",
              "85625                  0                  0               0                 1   \n",
              "85626                  0                  0               0                 1   \n",
              "\n",
              "       Primer Color_928  Primer Color_929  Clearcoat Color_   \\\n",
              "0                     0                 1                  0   \n",
              "1                     0                 1                  0   \n",
              "2                     0                 0                  1   \n",
              "3                     0                 0                  1   \n",
              "4                     0                 0                  0   \n",
              "...                 ...               ...                ...   \n",
              "85622                 0                 0                  0   \n",
              "85623                 0                 0                  0   \n",
              "85624                 0                 0                  0   \n",
              "85625                 0                 0                  0   \n",
              "85626                 0                 0                  0   \n",
              "\n",
              "       Clearcoat Color_002  \n",
              "0                        1  \n",
              "1                        1  \n",
              "2                        0  \n",
              "3                        0  \n",
              "4                        1  \n",
              "...                    ...  \n",
              "85622                    1  \n",
              "85623                    1  \n",
              "85624                    1  \n",
              "85625                    1  \n",
              "85626                    1  \n",
              "\n",
              "[81649 rows x 59 columns]"
            ],
            "text/html": [
              "\n",
              "  <div id=\"df-19244d4d-7f28-4e7e-bc95-c3a8fd66f7a7\" class=\"colab-df-container\">\n",
              "    <div>\n",
              "<style scoped>\n",
              "    .dataframe tbody tr th:only-of-type {\n",
              "        vertical-align: middle;\n",
              "    }\n",
              "\n",
              "    .dataframe tbody tr th {\n",
              "        vertical-align: top;\n",
              "    }\n",
              "\n",
              "    .dataframe thead th {\n",
              "        text-align: right;\n",
              "    }\n",
              "</style>\n",
              "<table border=\"1\" class=\"dataframe\">\n",
              "  <thead>\n",
              "    <tr style=\"text-align: right;\">\n",
              "      <th></th>\n",
              "      <th>ATACQ Item English Desc</th>\n",
              "      <th>Fault Area Code</th>\n",
              "      <th>Graphical Code Loc Desc</th>\n",
              "      <th>Panel</th>\n",
              "      <th>H-V_H</th>\n",
              "      <th>H-V_V</th>\n",
              "      <th>Int-ext_ext</th>\n",
              "      <th>Int-ext_int</th>\n",
              "      <th>L/R_L</th>\n",
              "      <th>L/R_R</th>\n",
              "      <th>...</th>\n",
              "      <th>Topcoat Color_731</th>\n",
              "      <th>Topcoat Color_735</th>\n",
              "      <th>Topcoat Color_736</th>\n",
              "      <th>Topcoat Color_740</th>\n",
              "      <th>Primer Color_0</th>\n",
              "      <th>Primer Color_915</th>\n",
              "      <th>Primer Color_928</th>\n",
              "      <th>Primer Color_929</th>\n",
              "      <th>Clearcoat Color_</th>\n",
              "      <th>Clearcoat Color_002</th>\n",
              "    </tr>\n",
              "  </thead>\n",
              "  <tbody>\n",
              "    <tr>\n",
              "      <th>0</th>\n",
              "      <td>DIRT (TOPCOAT)</td>\n",
              "      <td>Front door opening -frame (int)</td>\n",
              "      <td>DIRT</td>\n",
              "      <td>L1 Door Int</td>\n",
              "      <td>1</td>\n",
              "      <td>0</td>\n",
              "      <td>0</td>\n",
              "      <td>1</td>\n",
              "      <td>1</td>\n",
              "      <td>0</td>\n",
              "      <td>...</td>\n",
              "      <td>0</td>\n",
              "      <td>0</td>\n",
              "      <td>0</td>\n",
              "      <td>0</td>\n",
              "      <td>0</td>\n",
              "      <td>0</td>\n",
              "      <td>0</td>\n",
              "      <td>1</td>\n",
              "      <td>0</td>\n",
              "      <td>1</td>\n",
              "    </tr>\n",
              "    <tr>\n",
              "      <th>1</th>\n",
              "      <td>DIRT (TOPCOAT)</td>\n",
              "      <td>Front door opening -frame (int)</td>\n",
              "      <td>DIRT</td>\n",
              "      <td>L1 Door Int</td>\n",
              "      <td>1</td>\n",
              "      <td>0</td>\n",
              "      <td>0</td>\n",
              "      <td>1</td>\n",
              "      <td>1</td>\n",
              "      <td>0</td>\n",
              "      <td>...</td>\n",
              "      <td>0</td>\n",
              "      <td>0</td>\n",
              "      <td>0</td>\n",
              "      <td>0</td>\n",
              "      <td>0</td>\n",
              "      <td>0</td>\n",
              "      <td>0</td>\n",
              "      <td>1</td>\n",
              "      <td>0</td>\n",
              "      <td>1</td>\n",
              "    </tr>\n",
              "    <tr>\n",
              "      <th>2</th>\n",
              "      <td>EC BOIL OUT</td>\n",
              "      <td>Front passenger door opening  (int)</td>\n",
              "      <td>EC BOIL OUT</td>\n",
              "      <td>L1 Door Int</td>\n",
              "      <td>1</td>\n",
              "      <td>0</td>\n",
              "      <td>0</td>\n",
              "      <td>1</td>\n",
              "      <td>0</td>\n",
              "      <td>1</td>\n",
              "      <td>...</td>\n",
              "      <td>0</td>\n",
              "      <td>0</td>\n",
              "      <td>0</td>\n",
              "      <td>0</td>\n",
              "      <td>1</td>\n",
              "      <td>0</td>\n",
              "      <td>0</td>\n",
              "      <td>0</td>\n",
              "      <td>1</td>\n",
              "      <td>0</td>\n",
              "    </tr>\n",
              "    <tr>\n",
              "      <th>3</th>\n",
              "      <td>EC BOIL OUT</td>\n",
              "      <td>Front passenger door opening  (int)</td>\n",
              "      <td>EC BOIL OUT</td>\n",
              "      <td>L1 Door Int</td>\n",
              "      <td>1</td>\n",
              "      <td>0</td>\n",
              "      <td>0</td>\n",
              "      <td>1</td>\n",
              "      <td>0</td>\n",
              "      <td>1</td>\n",
              "      <td>...</td>\n",
              "      <td>0</td>\n",
              "      <td>0</td>\n",
              "      <td>0</td>\n",
              "      <td>0</td>\n",
              "      <td>1</td>\n",
              "      <td>0</td>\n",
              "      <td>0</td>\n",
              "      <td>0</td>\n",
              "      <td>1</td>\n",
              "      <td>0</td>\n",
              "    </tr>\n",
              "    <tr>\n",
              "      <th>4</th>\n",
              "      <td>DIRT (TOPCOAT)</td>\n",
              "      <td>Passenger side nose</td>\n",
              "      <td>DIRT</td>\n",
              "      <td>RFF</td>\n",
              "      <td>0</td>\n",
              "      <td>1</td>\n",
              "      <td>1</td>\n",
              "      <td>0</td>\n",
              "      <td>0</td>\n",
              "      <td>1</td>\n",
              "      <td>...</td>\n",
              "      <td>0</td>\n",
              "      <td>0</td>\n",
              "      <td>0</td>\n",
              "      <td>0</td>\n",
              "      <td>0</td>\n",
              "      <td>1</td>\n",
              "      <td>0</td>\n",
              "      <td>0</td>\n",
              "      <td>0</td>\n",
              "      <td>1</td>\n",
              "    </tr>\n",
              "    <tr>\n",
              "      <th>...</th>\n",
              "      <td>...</td>\n",
              "      <td>...</td>\n",
              "      <td>...</td>\n",
              "      <td>...</td>\n",
              "      <td>...</td>\n",
              "      <td>...</td>\n",
              "      <td>...</td>\n",
              "      <td>...</td>\n",
              "      <td>...</td>\n",
              "      <td>...</td>\n",
              "      <td>...</td>\n",
              "      <td>...</td>\n",
              "      <td>...</td>\n",
              "      <td>...</td>\n",
              "      <td>...</td>\n",
              "      <td>...</td>\n",
              "      <td>...</td>\n",
              "      <td>...</td>\n",
              "      <td>...</td>\n",
              "      <td>...</td>\n",
              "      <td>...</td>\n",
              "    </tr>\n",
              "    <tr>\n",
              "      <th>85622</th>\n",
              "      <td>DIRT (TOPCOAT)</td>\n",
              "      <td>Driver side nose</td>\n",
              "      <td>DIRT</td>\n",
              "      <td>LFF</td>\n",
              "      <td>0</td>\n",
              "      <td>1</td>\n",
              "      <td>1</td>\n",
              "      <td>0</td>\n",
              "      <td>1</td>\n",
              "      <td>0</td>\n",
              "      <td>...</td>\n",
              "      <td>0</td>\n",
              "      <td>0</td>\n",
              "      <td>0</td>\n",
              "      <td>0</td>\n",
              "      <td>0</td>\n",
              "      <td>1</td>\n",
              "      <td>0</td>\n",
              "      <td>0</td>\n",
              "      <td>0</td>\n",
              "      <td>1</td>\n",
              "    </tr>\n",
              "    <tr>\n",
              "      <th>85623</th>\n",
              "      <td>DIRT (PRIMER INSPECTION)</td>\n",
              "      <td>Driver tail end</td>\n",
              "      <td>DIRT</td>\n",
              "      <td>LQTR</td>\n",
              "      <td>0</td>\n",
              "      <td>1</td>\n",
              "      <td>1</td>\n",
              "      <td>0</td>\n",
              "      <td>1</td>\n",
              "      <td>0</td>\n",
              "      <td>...</td>\n",
              "      <td>0</td>\n",
              "      <td>0</td>\n",
              "      <td>0</td>\n",
              "      <td>0</td>\n",
              "      <td>0</td>\n",
              "      <td>1</td>\n",
              "      <td>0</td>\n",
              "      <td>0</td>\n",
              "      <td>0</td>\n",
              "      <td>1</td>\n",
              "    </tr>\n",
              "    <tr>\n",
              "      <th>85624</th>\n",
              "      <td>DIRT (PRIMER INSPECTION)</td>\n",
              "      <td>Driver tail end</td>\n",
              "      <td>DIRT</td>\n",
              "      <td>LQTR</td>\n",
              "      <td>0</td>\n",
              "      <td>1</td>\n",
              "      <td>1</td>\n",
              "      <td>0</td>\n",
              "      <td>1</td>\n",
              "      <td>0</td>\n",
              "      <td>...</td>\n",
              "      <td>0</td>\n",
              "      <td>0</td>\n",
              "      <td>0</td>\n",
              "      <td>0</td>\n",
              "      <td>0</td>\n",
              "      <td>1</td>\n",
              "      <td>0</td>\n",
              "      <td>0</td>\n",
              "      <td>0</td>\n",
              "      <td>1</td>\n",
              "    </tr>\n",
              "    <tr>\n",
              "      <th>85625</th>\n",
              "      <td>DIRT (PRIMER INSPECTION)</td>\n",
              "      <td>Pass. side front door (top ext)</td>\n",
              "      <td>DIRT</td>\n",
              "      <td>R1 Door</td>\n",
              "      <td>0</td>\n",
              "      <td>1</td>\n",
              "      <td>1</td>\n",
              "      <td>0</td>\n",
              "      <td>0</td>\n",
              "      <td>1</td>\n",
              "      <td>...</td>\n",
              "      <td>0</td>\n",
              "      <td>0</td>\n",
              "      <td>0</td>\n",
              "      <td>0</td>\n",
              "      <td>0</td>\n",
              "      <td>1</td>\n",
              "      <td>0</td>\n",
              "      <td>0</td>\n",
              "      <td>0</td>\n",
              "      <td>1</td>\n",
              "    </tr>\n",
              "    <tr>\n",
              "      <th>85626</th>\n",
              "      <td>DIRT (PRIMER INSPECTION)</td>\n",
              "      <td>Pass. side front door (top ext)</td>\n",
              "      <td>DIRT</td>\n",
              "      <td>R1 Door</td>\n",
              "      <td>0</td>\n",
              "      <td>1</td>\n",
              "      <td>1</td>\n",
              "      <td>0</td>\n",
              "      <td>0</td>\n",
              "      <td>1</td>\n",
              "      <td>...</td>\n",
              "      <td>0</td>\n",
              "      <td>0</td>\n",
              "      <td>0</td>\n",
              "      <td>0</td>\n",
              "      <td>0</td>\n",
              "      <td>1</td>\n",
              "      <td>0</td>\n",
              "      <td>0</td>\n",
              "      <td>0</td>\n",
              "      <td>1</td>\n",
              "    </tr>\n",
              "  </tbody>\n",
              "</table>\n",
              "<p>81649 rows × 59 columns</p>\n",
              "</div>\n",
              "    <div class=\"colab-df-buttons\">\n",
              "\n",
              "  <div class=\"colab-df-container\">\n",
              "    <button class=\"colab-df-convert\" onclick=\"convertToInteractive('df-19244d4d-7f28-4e7e-bc95-c3a8fd66f7a7')\"\n",
              "            title=\"Convert this dataframe to an interactive table.\"\n",
              "            style=\"display:none;\">\n",
              "\n",
              "  <svg xmlns=\"http://www.w3.org/2000/svg\" height=\"24px\" viewBox=\"0 -960 960 960\">\n",
              "    <path d=\"M120-120v-720h720v720H120Zm60-500h600v-160H180v160Zm220 220h160v-160H400v160Zm0 220h160v-160H400v160ZM180-400h160v-160H180v160Zm440 0h160v-160H620v160ZM180-180h160v-160H180v160Zm440 0h160v-160H620v160Z\"/>\n",
              "  </svg>\n",
              "    </button>\n",
              "\n",
              "  <style>\n",
              "    .colab-df-container {\n",
              "      display:flex;\n",
              "      gap: 12px;\n",
              "    }\n",
              "\n",
              "    .colab-df-convert {\n",
              "      background-color: #E8F0FE;\n",
              "      border: none;\n",
              "      border-radius: 50%;\n",
              "      cursor: pointer;\n",
              "      display: none;\n",
              "      fill: #1967D2;\n",
              "      height: 32px;\n",
              "      padding: 0 0 0 0;\n",
              "      width: 32px;\n",
              "    }\n",
              "\n",
              "    .colab-df-convert:hover {\n",
              "      background-color: #E2EBFA;\n",
              "      box-shadow: 0px 1px 2px rgba(60, 64, 67, 0.3), 0px 1px 3px 1px rgba(60, 64, 67, 0.15);\n",
              "      fill: #174EA6;\n",
              "    }\n",
              "\n",
              "    .colab-df-buttons div {\n",
              "      margin-bottom: 4px;\n",
              "    }\n",
              "\n",
              "    [theme=dark] .colab-df-convert {\n",
              "      background-color: #3B4455;\n",
              "      fill: #D2E3FC;\n",
              "    }\n",
              "\n",
              "    [theme=dark] .colab-df-convert:hover {\n",
              "      background-color: #434B5C;\n",
              "      box-shadow: 0px 1px 3px 1px rgba(0, 0, 0, 0.15);\n",
              "      filter: drop-shadow(0px 1px 2px rgba(0, 0, 0, 0.3));\n",
              "      fill: #FFFFFF;\n",
              "    }\n",
              "  </style>\n",
              "\n",
              "    <script>\n",
              "      const buttonEl =\n",
              "        document.querySelector('#df-19244d4d-7f28-4e7e-bc95-c3a8fd66f7a7 button.colab-df-convert');\n",
              "      buttonEl.style.display =\n",
              "        google.colab.kernel.accessAllowed ? 'block' : 'none';\n",
              "\n",
              "      async function convertToInteractive(key) {\n",
              "        const element = document.querySelector('#df-19244d4d-7f28-4e7e-bc95-c3a8fd66f7a7');\n",
              "        const dataTable =\n",
              "          await google.colab.kernel.invokeFunction('convertToInteractive',\n",
              "                                                    [key], {});\n",
              "        if (!dataTable) return;\n",
              "\n",
              "        const docLinkHtml = 'Like what you see? Visit the ' +\n",
              "          '<a target=\"_blank\" href=https://colab.research.google.com/notebooks/data_table.ipynb>data table notebook</a>'\n",
              "          + ' to learn more about interactive tables.';\n",
              "        element.innerHTML = '';\n",
              "        dataTable['output_type'] = 'display_data';\n",
              "        await google.colab.output.renderOutput(dataTable, element);\n",
              "        const docLink = document.createElement('div');\n",
              "        docLink.innerHTML = docLinkHtml;\n",
              "        element.appendChild(docLink);\n",
              "      }\n",
              "    </script>\n",
              "  </div>\n",
              "\n",
              "\n",
              "<div id=\"df-80492d0b-3cbe-4a3f-bf03-ef6d3b2056de\">\n",
              "  <button class=\"colab-df-quickchart\" onclick=\"quickchart('df-80492d0b-3cbe-4a3f-bf03-ef6d3b2056de')\"\n",
              "            title=\"Suggest charts.\"\n",
              "            style=\"display:none;\">\n",
              "\n",
              "<svg xmlns=\"http://www.w3.org/2000/svg\" height=\"24px\"viewBox=\"0 0 24 24\"\n",
              "     width=\"24px\">\n",
              "    <g>\n",
              "        <path d=\"M19 3H5c-1.1 0-2 .9-2 2v14c0 1.1.9 2 2 2h14c1.1 0 2-.9 2-2V5c0-1.1-.9-2-2-2zM9 17H7v-7h2v7zm4 0h-2V7h2v10zm4 0h-2v-4h2v4z\"/>\n",
              "    </g>\n",
              "</svg>\n",
              "  </button>\n",
              "\n",
              "<style>\n",
              "  .colab-df-quickchart {\n",
              "      --bg-color: #E8F0FE;\n",
              "      --fill-color: #1967D2;\n",
              "      --hover-bg-color: #E2EBFA;\n",
              "      --hover-fill-color: #174EA6;\n",
              "      --disabled-fill-color: #AAA;\n",
              "      --disabled-bg-color: #DDD;\n",
              "  }\n",
              "\n",
              "  [theme=dark] .colab-df-quickchart {\n",
              "      --bg-color: #3B4455;\n",
              "      --fill-color: #D2E3FC;\n",
              "      --hover-bg-color: #434B5C;\n",
              "      --hover-fill-color: #FFFFFF;\n",
              "      --disabled-bg-color: #3B4455;\n",
              "      --disabled-fill-color: #666;\n",
              "  }\n",
              "\n",
              "  .colab-df-quickchart {\n",
              "    background-color: var(--bg-color);\n",
              "    border: none;\n",
              "    border-radius: 50%;\n",
              "    cursor: pointer;\n",
              "    display: none;\n",
              "    fill: var(--fill-color);\n",
              "    height: 32px;\n",
              "    padding: 0;\n",
              "    width: 32px;\n",
              "  }\n",
              "\n",
              "  .colab-df-quickchart:hover {\n",
              "    background-color: var(--hover-bg-color);\n",
              "    box-shadow: 0 1px 2px rgba(60, 64, 67, 0.3), 0 1px 3px 1px rgba(60, 64, 67, 0.15);\n",
              "    fill: var(--button-hover-fill-color);\n",
              "  }\n",
              "\n",
              "  .colab-df-quickchart-complete:disabled,\n",
              "  .colab-df-quickchart-complete:disabled:hover {\n",
              "    background-color: var(--disabled-bg-color);\n",
              "    fill: var(--disabled-fill-color);\n",
              "    box-shadow: none;\n",
              "  }\n",
              "\n",
              "  .colab-df-spinner {\n",
              "    border: 2px solid var(--fill-color);\n",
              "    border-color: transparent;\n",
              "    border-bottom-color: var(--fill-color);\n",
              "    animation:\n",
              "      spin 1s steps(1) infinite;\n",
              "  }\n",
              "\n",
              "  @keyframes spin {\n",
              "    0% {\n",
              "      border-color: transparent;\n",
              "      border-bottom-color: var(--fill-color);\n",
              "      border-left-color: var(--fill-color);\n",
              "    }\n",
              "    20% {\n",
              "      border-color: transparent;\n",
              "      border-left-color: var(--fill-color);\n",
              "      border-top-color: var(--fill-color);\n",
              "    }\n",
              "    30% {\n",
              "      border-color: transparent;\n",
              "      border-left-color: var(--fill-color);\n",
              "      border-top-color: var(--fill-color);\n",
              "      border-right-color: var(--fill-color);\n",
              "    }\n",
              "    40% {\n",
              "      border-color: transparent;\n",
              "      border-right-color: var(--fill-color);\n",
              "      border-top-color: var(--fill-color);\n",
              "    }\n",
              "    60% {\n",
              "      border-color: transparent;\n",
              "      border-right-color: var(--fill-color);\n",
              "    }\n",
              "    80% {\n",
              "      border-color: transparent;\n",
              "      border-right-color: var(--fill-color);\n",
              "      border-bottom-color: var(--fill-color);\n",
              "    }\n",
              "    90% {\n",
              "      border-color: transparent;\n",
              "      border-bottom-color: var(--fill-color);\n",
              "    }\n",
              "  }\n",
              "</style>\n",
              "\n",
              "  <script>\n",
              "    async function quickchart(key) {\n",
              "      const quickchartButtonEl =\n",
              "        document.querySelector('#' + key + ' button');\n",
              "      quickchartButtonEl.disabled = true;  // To prevent multiple clicks.\n",
              "      quickchartButtonEl.classList.add('colab-df-spinner');\n",
              "      try {\n",
              "        const charts = await google.colab.kernel.invokeFunction(\n",
              "            'suggestCharts', [key], {});\n",
              "      } catch (error) {\n",
              "        console.error('Error during call to suggestCharts:', error);\n",
              "      }\n",
              "      quickchartButtonEl.classList.remove('colab-df-spinner');\n",
              "      quickchartButtonEl.classList.add('colab-df-quickchart-complete');\n",
              "    }\n",
              "    (() => {\n",
              "      let quickchartButtonEl =\n",
              "        document.querySelector('#df-80492d0b-3cbe-4a3f-bf03-ef6d3b2056de button');\n",
              "      quickchartButtonEl.style.display =\n",
              "        google.colab.kernel.accessAllowed ? 'block' : 'none';\n",
              "    })();\n",
              "  </script>\n",
              "</div>\n",
              "    </div>\n",
              "  </div>\n"
            ]
          },
          "metadata": {},
          "execution_count": 18
        }
      ]
    },
    {
      "cell_type": "code",
      "source": [
        "df_combine_copy.info()"
      ],
      "metadata": {
        "colab": {
          "base_uri": "https://localhost:8080/"
        },
        "id": "6nsgbm_-EDlx",
        "outputId": "412cb9e5-06ce-4c3b-eba5-1c6743ef9948"
      },
      "execution_count": 19,
      "outputs": [
        {
          "output_type": "stream",
          "name": "stdout",
          "text": [
            "<class 'pandas.core.frame.DataFrame'>\n",
            "Int64Index: 81649 entries, 0 to 85626\n",
            "Data columns (total 59 columns):\n",
            " #   Column                   Non-Null Count  Dtype \n",
            "---  ------                   --------------  ----- \n",
            " 0   ATACQ Item English Desc  81649 non-null  object\n",
            " 1   Fault Area Code          81649 non-null  object\n",
            " 2   Graphical Code Loc Desc  81649 non-null  object\n",
            " 3   Panel                    81649 non-null  object\n",
            " 4   H-V_H                    81649 non-null  uint8 \n",
            " 5   H-V_V                    81649 non-null  uint8 \n",
            " 6   Int-ext_ext              81649 non-null  uint8 \n",
            " 7   Int-ext_int              81649 non-null  uint8 \n",
            " 8   L/R_L                    81649 non-null  uint8 \n",
            " 9   L/R_R                    81649 non-null  uint8 \n",
            " 10  D/L - P/R_D              81649 non-null  uint8 \n",
            " 11  D/L - P/R_L              81649 non-null  uint8 \n",
            " 12  D/L - P/R_P              81649 non-null  uint8 \n",
            " 13  Primer_R11               81649 non-null  uint8 \n",
            " 14  Primer_R12               81649 non-null  uint8 \n",
            " 15  Primer_R21               81649 non-null  uint8 \n",
            " 16  Primer_R22               81649 non-null  uint8 \n",
            " 17  Primer_X                 81649 non-null  uint8 \n",
            " 18  BC Int_R11               81649 non-null  uint8 \n",
            " 19  BC Int_R12               81649 non-null  uint8 \n",
            " 20  BC Int_R21               81649 non-null  uint8 \n",
            " 21  BC Int_R22               81649 non-null  uint8 \n",
            " 22  BC Int_X                 81649 non-null  uint8 \n",
            " 23  BC Ext 1_R11             81649 non-null  uint8 \n",
            " 24  BC Ext 1_R12             81649 non-null  uint8 \n",
            " 25  BC Ext 1_R21             81649 non-null  uint8 \n",
            " 26  BC Ext 1_R22             81649 non-null  uint8 \n",
            " 27  BC Ext 1_X               81649 non-null  uint8 \n",
            " 28  BC Ext 2_R13             81649 non-null  uint8 \n",
            " 29  BC Ext 2_R14             81649 non-null  uint8 \n",
            " 30  BC Ext 2_R23             81649 non-null  uint8 \n",
            " 31  BC Ext 2_R24             81649 non-null  uint8 \n",
            " 32  BC Ext 2_X               81649 non-null  uint8 \n",
            " 33  CC Int_R11               81649 non-null  uint8 \n",
            " 34  CC Int_R12               81649 non-null  uint8 \n",
            " 35  CC Int_R21               81649 non-null  uint8 \n",
            " 36  CC Int_R22               81649 non-null  uint8 \n",
            " 37  CC Int_X                 81649 non-null  uint8 \n",
            " 38  CC Ext_R11               81649 non-null  uint8 \n",
            " 39  CC Ext_R12               81649 non-null  uint8 \n",
            " 40  CC Ext_R21               81649 non-null  uint8 \n",
            " 41  CC Ext_R22               81649 non-null  uint8 \n",
            " 42  CC Ext_X                 81649 non-null  uint8 \n",
            " 43  Topcoat Color_0          81649 non-null  uint8 \n",
            " 44  Topcoat Color_707        81649 non-null  uint8 \n",
            " 45  Topcoat Color_717        81649 non-null  uint8 \n",
            " 46  Topcoat Color_723        81649 non-null  uint8 \n",
            " 47  Topcoat Color_725        81649 non-null  uint8 \n",
            " 48  Topcoat Color_728        81649 non-null  uint8 \n",
            " 49  Topcoat Color_731        81649 non-null  uint8 \n",
            " 50  Topcoat Color_735        81649 non-null  uint8 \n",
            " 51  Topcoat Color_736        81649 non-null  uint8 \n",
            " 52  Topcoat Color_740        81649 non-null  uint8 \n",
            " 53  Primer Color_0           81649 non-null  uint8 \n",
            " 54  Primer Color_915         81649 non-null  uint8 \n",
            " 55  Primer Color_928         81649 non-null  uint8 \n",
            " 56  Primer Color_929         81649 non-null  uint8 \n",
            " 57  Clearcoat Color_         81649 non-null  uint8 \n",
            " 58  Clearcoat Color_002      81649 non-null  uint8 \n",
            "dtypes: object(4), uint8(55)\n",
            "memory usage: 7.4+ MB\n"
          ]
        }
      ]
    },
    {
      "cell_type": "markdown",
      "source": [
        "### **1.3.3** Preprocessing: Split into Features and Label\n",
        "\n",
        "Now that we have explored and cleaned our dataset, let's prepare it for a machine learning task.\n",
        "\n",
        "The features will be the encoded variables you've created so for from 1.3.1 - 1.3.2. The label will be the `Graphical Code Loc Desc`, indicating the price. Store these two as `features` and `Defects`, respectively."
      ],
      "metadata": {
        "id": "NUy1kq06F1Cv"
      }
    },
    {
      "cell_type": "code",
      "source": [
        "featureslist = list(df_combine_copy.columns)"
      ],
      "metadata": {
        "id": "o7lArpdAFLsD"
      },
      "execution_count": 20,
      "outputs": []
    },
    {
      "cell_type": "code",
      "source": [
        "featureslist.remove('ATACQ Item English Desc')\n",
        "featureslist.remove('Fault Area Code')\n",
        "featureslist.remove('Panel')\n",
        "featureslist.remove('Graphical Code Loc Desc')"
      ],
      "metadata": {
        "id": "NZiaPaHQGN2f"
      },
      "execution_count": 21,
      "outputs": []
    },
    {
      "cell_type": "code",
      "source": [
        "featureslist"
      ],
      "metadata": {
        "colab": {
          "base_uri": "https://localhost:8080/"
        },
        "id": "NrkgF-iNISK4",
        "outputId": "63738a7e-82bb-4d19-a380-81453e9f0fc4"
      },
      "execution_count": 22,
      "outputs": [
        {
          "output_type": "execute_result",
          "data": {
            "text/plain": [
              "['H-V_H',\n",
              " 'H-V_V',\n",
              " 'Int-ext_ext',\n",
              " 'Int-ext_int',\n",
              " 'L/R_L',\n",
              " 'L/R_R',\n",
              " 'D/L - P/R_D',\n",
              " 'D/L - P/R_L',\n",
              " 'D/L - P/R_P',\n",
              " 'Primer_R11',\n",
              " 'Primer_R12',\n",
              " 'Primer_R21',\n",
              " 'Primer_R22',\n",
              " 'Primer_X',\n",
              " 'BC Int_R11',\n",
              " 'BC Int_R12',\n",
              " 'BC Int_R21',\n",
              " 'BC Int_R22',\n",
              " 'BC Int_X',\n",
              " 'BC Ext 1_R11',\n",
              " 'BC Ext 1_R12',\n",
              " 'BC Ext 1_R21',\n",
              " 'BC Ext 1_R22',\n",
              " 'BC Ext 1_X',\n",
              " 'BC Ext 2_R13',\n",
              " 'BC Ext 2_R14',\n",
              " 'BC Ext 2_R23',\n",
              " 'BC Ext 2_R24',\n",
              " 'BC Ext 2_X',\n",
              " 'CC Int_R11',\n",
              " 'CC Int_R12',\n",
              " 'CC Int_R21',\n",
              " 'CC Int_R22',\n",
              " 'CC Int_X',\n",
              " 'CC Ext_R11',\n",
              " 'CC Ext_R12',\n",
              " 'CC Ext_R21',\n",
              " 'CC Ext_R22',\n",
              " 'CC Ext_X',\n",
              " 'Topcoat Color_0',\n",
              " 'Topcoat Color_707',\n",
              " 'Topcoat Color_717',\n",
              " 'Topcoat Color_723',\n",
              " 'Topcoat Color_725',\n",
              " 'Topcoat Color_728',\n",
              " 'Topcoat Color_731',\n",
              " 'Topcoat Color_735',\n",
              " 'Topcoat Color_736',\n",
              " 'Topcoat Color_740',\n",
              " 'Primer Color_0',\n",
              " 'Primer Color_915',\n",
              " 'Primer Color_928',\n",
              " 'Primer Color_929',\n",
              " 'Clearcoat Color_ ',\n",
              " 'Clearcoat Color_002']"
            ]
          },
          "metadata": {},
          "execution_count": 22
        }
      ]
    },
    {
      "cell_type": "code",
      "source": [
        "features = df_combine_copy[featureslist]\n",
        "label = df_combine_copy['Graphical Code Loc Desc'].apply(lambda x: 1 if x == 'DIRT' else 0)"
      ],
      "metadata": {
        "id": "WJUuUCYjGQlz"
      },
      "execution_count": 23,
      "outputs": []
    },
    {
      "cell_type": "markdown",
      "source": [
        "## **1.4** Modeling (sklearn)"
      ],
      "metadata": {
        "id": "1gACoatnIa6L"
      }
    },
    {
      "cell_type": "markdown",
      "source": [
        "### **1.4.1** Split Data into Train and Test\n",
        "\n",
        "Use scikit-learn's `train_test_split` function to split data for regression into train and test sets. The split should be 80-20 meaning 80% for training and rest for testing.\n",
        "\n",
        "Since this part concerns regression, you should carefully think about what should be our target variable?\n",
        "\n",
        "**_IMPORTANT_: Please set the `seed` variable to 42 and then set the parameter to `random_state = seed`** and store the resulting splits as `x_train, x_test, y_train,` and `y_test`. This is necessary in order for our autograder to accurately evaluate your answer."
      ],
      "metadata": {
        "id": "9fM9cv3xIcdG"
      }
    },
    {
      "cell_type": "code",
      "source": [
        "seed = 42\n",
        "x_train, x_test, y_train, y_test = train_test_split(features, label, random_state=seed, test_size=0.2)"
      ],
      "metadata": {
        "id": "OrfdFQqnIf-j"
      },
      "execution_count": 38,
      "outputs": []
    },
    {
      "cell_type": "markdown",
      "source": [
        "### **1.4.3** Classification Models\n",
        "We are now switching into classification mode. We will be predicting whether the defect is `DIRT` or else.\n",
        "We also need to redefine our features for this new task. Carefully think about which columns should be used as features and which column should be used as label. Store these as `labels` and `features` respectively.\n",
        "\n",
        "- **Note 1**: Do not include highly correlated features in `features\n",
        "- **Note 2**: Do not include any column which is directly related to the `labels` in the `features`. Think about why that's a bad idea as this is an extremely important consideration."
      ],
      "metadata": {
        "id": "zX-4MVnMI631"
      }
    },
    {
      "cell_type": "markdown",
      "source": [
        "#### (a) Logistic Regression\n",
        "\n",
        "Fit a Logistic regression classifier on the `x_train` and `y_train` with the default hyperparameters. Calculate the accuracy of the model on the test set using the `score` method and store it in a variable named `log_acc`"
      ],
      "metadata": {
        "id": "f-8DdFDII_db"
      }
    },
    {
      "cell_type": "code",
      "source": [
        "from sklearn.linear_model import LogisticRegression\n",
        "# TO-DO: Initialize model with default parameters and fit it on the training set\n",
        "logreg = LogisticRegression(penalty='l2', class_weight='balanced')\n",
        "logreg.fit(x_train, y_train)\n",
        "# TO-DO: Use the model to predict on the test set and save these predictions as `y_pred`\n",
        "y_pred = logreg.predict(x_test)\n",
        "# TO-DO: Find the accuracy and store the value in `log_acc`\n",
        "log_acc = logreg.score(x_test, y_test)"
      ],
      "metadata": {
        "colab": {
          "base_uri": "https://localhost:8080/"
        },
        "id": "ngP4EO_4I_Ak",
        "outputId": "07b409d8-1341-4233-afaa-eea66d31a459"
      },
      "execution_count": 39,
      "outputs": [
        {
          "output_type": "stream",
          "name": "stderr",
          "text": [
            "/usr/local/lib/python3.10/dist-packages/sklearn/linear_model/_logistic.py:458: ConvergenceWarning: lbfgs failed to converge (status=1):\n",
            "STOP: TOTAL NO. of ITERATIONS REACHED LIMIT.\n",
            "\n",
            "Increase the number of iterations (max_iter) or scale the data as shown in:\n",
            "    https://scikit-learn.org/stable/modules/preprocessing.html\n",
            "Please also refer to the documentation for alternative solver options:\n",
            "    https://scikit-learn.org/stable/modules/linear_model.html#logistic-regression\n",
            "  n_iter_i = _check_optimize_result(\n"
          ]
        }
      ]
    },
    {
      "cell_type": "code",
      "source": [
        "log_acc"
      ],
      "metadata": {
        "colab": {
          "base_uri": "https://localhost:8080/"
        },
        "id": "09f_FFBGJHNp",
        "outputId": "da55b99f-7c67-4b2b-8cb1-d727b1fdb2f2"
      },
      "execution_count": 40,
      "outputs": [
        {
          "output_type": "execute_result",
          "data": {
            "text/plain": [
              "0.6120024494794856"
            ]
          },
          "metadata": {},
          "execution_count": 40
        }
      ]
    },
    {
      "cell_type": "code",
      "source": [
        "sorted_copy = sorted(logreg.coef_[0])\n",
        "top12 = sorted_copy[0:6] + sorted_copy[40:46]\n",
        "print(top12)\n",
        "top10_index = []\n",
        "for i in range(logreg.coef_.size):\n",
        "  if logreg.coef_[0][i] in top12:\n",
        "    top10_index.append(i)\n",
        "\n",
        "print(top10_index)\n"
      ],
      "metadata": {
        "colab": {
          "base_uri": "https://localhost:8080/"
        },
        "id": "86hYcbTvLlF_",
        "outputId": "b8c43d03-ede4-473c-9017-107fd07fcfad"
      },
      "execution_count": 41,
      "outputs": [
        {
          "output_type": "stream",
          "name": "stdout",
          "text": [
            "[-1.5919531348751845, -1.1347957164181393, -1.007718376779296, -1.0073335814235629, -0.9855970108027654, -0.9385682313553446, 0.2016946976860343, 0.2172800757171643, 0.24302355666575567, 0.2623144840693, 0.27357144693085367, 0.31060049583768656]\n",
            "[11, 15, 16, 20, 22, 33, 34, 41, 43, 48, 49, 51]\n"
          ]
        }
      ]
    },
    {
      "cell_type": "code",
      "source": [
        "top10_features = []\n",
        "for i in range(12):\n",
        "  top10_features.append(list(x_test.columns)[top10_index[i]])\n",
        "\n",
        "\n",
        "top10_features"
      ],
      "metadata": {
        "colab": {
          "base_uri": "https://localhost:8080/"
        },
        "id": "Pch0xPLHLm5Q",
        "outputId": "ed3eac1b-4c74-42d7-b6cb-7783dfcc8da2"
      },
      "execution_count": 42,
      "outputs": [
        {
          "output_type": "execute_result",
          "data": {
            "text/plain": [
              "['Primer_R21',\n",
              " 'BC Int_R12',\n",
              " 'BC Int_R21',\n",
              " 'BC Ext 1_R12',\n",
              " 'BC Ext 1_R22',\n",
              " 'CC Int_X',\n",
              " 'CC Ext_R11',\n",
              " 'Topcoat Color_717',\n",
              " 'Topcoat Color_725',\n",
              " 'Topcoat Color_740',\n",
              " 'Primer Color_0',\n",
              " 'Primer Color_928']"
            ]
          },
          "metadata": {},
          "execution_count": 42
        }
      ]
    },
    {
      "cell_type": "markdown",
      "source": [
        "#### (b) PCA to Reduce Dimensionality\n",
        "\n",
        "The goal of Principal Component Analysis is to reduce the number of dimensions of our features."
      ],
      "metadata": {
        "id": "Zs1FLEPGKhba"
      }
    },
    {
      "cell_type": "code",
      "source": [
        "# TO-DO: Impprt libraries\n",
        "from sklearn.preprocessing import StandardScaler\n",
        "from sklearn.decomposition import PCA\n",
        "# TO-DO: Intermediate step to address scale-invariance\n",
        "scaler = StandardScaler()\n",
        "\n",
        "scaler.fit(x_train)\n",
        "scaled_x_train = scaler.transform(x_train)\n",
        "pca = PCA(n_components=scaled_x_train.shape[1])\n",
        "pca_x_train = pca.fit_transform(scaled_x_train)"
      ],
      "metadata": {
        "id": "MCRi0ocLKiWV"
      },
      "execution_count": 43,
      "outputs": []
    },
    {
      "cell_type": "code",
      "source": [
        "explained_variance_ratios = pca.explained_variance_ratio_"
      ],
      "metadata": {
        "id": "tQcGMG04KmNj"
      },
      "execution_count": 44,
      "outputs": []
    },
    {
      "cell_type": "code",
      "source": [
        "plt.plot(np.arange(0, 55), np.cumsum(explained_variance_ratios), label='explained_variance_ratios')\n",
        "plt.legend()\n",
        "# Plot (1 point for correct shape)\n",
        "plt.xlabel('Principle component index')\n",
        "plt.ylabel('Explained variance ratio')\n",
        "plt.title('principle component index vs. ratio')\n",
        "# Aesthetics (1 point for title AND both axes labels)\n",
        "plt.show()"
      ],
      "metadata": {
        "colab": {
          "base_uri": "https://localhost:8080/",
          "height": 472
        },
        "id": "zb7YlgIaKquo",
        "outputId": "0a804627-aedb-43de-a063-633273f9e320"
      },
      "execution_count": 45,
      "outputs": [
        {
          "output_type": "display_data",
          "data": {
            "text/plain": [
              "<Figure size 640x480 with 1 Axes>"
            ],
            "image/png": "[encoded data removed]"
          },
          "metadata": {}
        }
      ]
    },
    {
      "cell_type": "code",
      "source": [
        "#TO-DO: Get transformed set of principal components on x_test\n",
        "\n",
        "# 1. Refit and transform on training with parameter n (as deduced from the last step)\n",
        "pca = PCA(n_components=20)\n",
        "\n",
        "pca_x_train = pca.fit_transform(x_train)\n",
        "\n",
        "# 2. Transform on Testing Set and store it as `x_test_pca`\n",
        "x_test_pca = pca.transform(x_test)"
      ],
      "metadata": {
        "id": "KRXm7zjFK542"
      },
      "execution_count": 46,
      "outputs": []
    },
    {
      "cell_type": "code",
      "source": [
        "# TO-DO: Initialize `log_reg_pca` model with default parameters and fit it on the PCA transformed training set\n",
        "log_reg_pca = LogisticRegression()\n",
        "log_reg_pca.fit(pca_x_train, y_train)\n",
        "\n",
        "\n",
        "# TO-DO: Use the model to predict on the PCA transformed test set and save these predictions as `y_pred`\n",
        "y_pred = log_reg_pca.predict(x_test_pca)\n",
        "\n",
        "# TO-DO: Find the accuracy and store the value in `test_accuracy`\n",
        "test_accuracy = log_reg_pca.score(x_test_pca, y_test)"
      ],
      "metadata": {
        "id": "TWN1rdCMK8FV"
      },
      "execution_count": 47,
      "outputs": []
    },
    {
      "cell_type": "code",
      "source": [
        "test_accuracy"
      ],
      "metadata": {
        "colab": {
          "base_uri": "https://localhost:8080/"
        },
        "id": "adVeSgC5K_k9",
        "outputId": "4c81d4f3-9d62-4e92-e0b5-936bb153affe"
      },
      "execution_count": 48,
      "outputs": [
        {
          "output_type": "execute_result",
          "data": {
            "text/plain": [
              "0.7268830373545622"
            ]
          },
          "metadata": {},
          "execution_count": 48
        }
      ]
    },
    {
      "cell_type": "markdown",
      "source": [
        "### Confusion Matrix\n",
        "\n",
        "A confusion matrix is a table that is used to define the performance of a classification algorithm."
      ],
      "metadata": {
        "id": "OJpASFf8LH7K"
      }
    },
    {
      "cell_type": "code",
      "source": [
        "from sklearn.metrics import ConfusionMatrixDisplay, confusion_matrix\n",
        "\n",
        "\n",
        "cm = confusion_matrix(y_test, y_pred)\n",
        "\n",
        "cm_display = ConfusionMatrixDisplay(cm).plot()"
      ],
      "metadata": {
        "colab": {
          "base_uri": "https://localhost:8080/",
          "height": 449
        },
        "id": "8kVv_0_JLHDF",
        "outputId": "fb284912-6d2a-4f8a-a2ae-e866516e2843"
      },
      "execution_count": 49,
      "outputs": [
        {
          "output_type": "display_data",
          "data": {
            "text/plain": [
              "<Figure size 640x480 with 2 Axes>"
            ],
            "image/png": "[encoded data removed]"
          },
          "metadata": {}
        }
      ]
    },
    {
      "cell_type": "markdown",
      "source": [
        "## Decision Tree"
      ],
      "metadata": {
        "id": "PZAbPEqJoZQy"
      }
    },
    {
      "cell_type": "code",
      "source": [
        "x_tree = df_combine_copy[featureslist]\n",
        "y_tree = df_combine_copy['Graphical Code Loc Desc'].apply(lambda x: 1 if x == 'DIRT' else 0)\n",
        "\n",
        "x_train_tree, x_test_tree, y_train_tree, y_test_tree = train_test_split(x_tree, y_tree, test_size=0.2)\n",
        "\n",
        "# create a classifier object\n",
        "tree_model = DecisionTreeClassifier(class_weight='balanced')\n",
        "\n",
        "# fit the classifer with x and y data\n",
        "tree_model.fit(x_train_tree, y_train_tree)\n",
        "\n",
        "accuracy = tree_model.score(x_test_tree, y_test_tree)\n",
        "print(f\"Accuracy on test_set:{accuracy:.3f}\")\n",
        "\n",
        "# Confusion matrix\n",
        "predictions = tree_model.predict(x_test_tree)\n",
        "\n",
        "cm3 = confusion_matrix(y_test_tree, predictions)\n",
        "\n",
        "ConfusionMatrixDisplay(cm3).plot()\n"
      ],
      "metadata": {
        "id": "a9Nj6PTpLVFI",
        "colab": {
          "base_uri": "https://localhost:8080/",
          "height": 484
        },
        "outputId": "560eb5bb-e545-4238-966f-b7ee6f0c32b8"
      },
      "execution_count": 26,
      "outputs": [
        {
          "output_type": "stream",
          "name": "stdout",
          "text": [
            "Accuracy on test_set:0.662\n"
          ]
        },
        {
          "output_type": "execute_result",
          "data": {
            "text/plain": [
              "<sklearn.metrics._plot.confusion_matrix.ConfusionMatrixDisplay at 0x7a4a9f36f970>"
            ]
          },
          "metadata": {},
          "execution_count": 26
        },
        {
          "output_type": "display_data",
          "data": {
            "text/plain": [
              "<Figure size 640x480 with 2 Axes>"
            ],
            "image/png": "[encoded data removed]"
          },
          "metadata": {}
        }
      ]
    },
    {
      "cell_type": "markdown",
      "source": [
        "## Random Forest"
      ],
      "metadata": {
        "id": "v7OYYvQnqOp6"
      }
    },
    {
      "cell_type": "code",
      "source": [
        "x_tree = df_combine_copy[featureslist]\n",
        "y_tree = df_combine_copy['Graphical Code Loc Desc'].apply(lambda x: 1 if x == 'DIRT' else 0)\n",
        "\n",
        "\n",
        "x_train_tree, x_test_tree, y_train_tree, y_test_tree = train_test_split(x_tree, y_tree, test_size=0.2)\n",
        "\n",
        "# create a classifier object\n",
        "forest_model = RandomForestClassifier(class_weight='balanced')\n",
        "\n",
        "# fit the classifer with x and y data\n",
        "forest_model.fit(x_train_tree, y_train_tree)\n",
        "\n",
        "accuracy = forest_model.score(x_test_tree, y_test_tree)\n",
        "print(f\"Accuracy on test_set:{accuracy:.3f}\")\n",
        "\n",
        "# Confusion matrix\n",
        "predictions = forest_model.predict(x_test_tree)\n",
        "\n",
        "cm4 = confusion_matrix(y_test_tree, predictions)\n",
        "\n",
        "ConfusionMatrixDisplay(cm4).plot()"
      ],
      "metadata": {
        "colab": {
          "base_uri": "https://localhost:8080/",
          "height": 484
        },
        "id": "9_Sew04zqTQs",
        "outputId": "fa4cc136-9c57-4574-f052-f43a82ba9783"
      },
      "execution_count": 30,
      "outputs": [
        {
          "output_type": "stream",
          "name": "stdout",
          "text": [
            "Accuracy on test_set:0.658\n"
          ]
        },
        {
          "output_type": "execute_result",
          "data": {
            "text/plain": [
              "<sklearn.metrics._plot.confusion_matrix.ConfusionMatrixDisplay at 0x7a4a9eff1bd0>"
            ]
          },
          "metadata": {},
          "execution_count": 30
        },
        {
          "output_type": "display_data",
          "data": {
            "text/plain": [
              "<Figure size 640x480 with 2 Axes>"
            ],
            "image/png": "[encoded data removed]"
          },
          "metadata": {}
        }
      ]
    },
    {
      "cell_type": "code",
      "source": [
        "importances = forest_model.feature_importances_\n",
        "forest_importances = pd.Series(importances, index=featureslist).sort_values()\n",
        "fig, ax = plt.subplots()\n",
        "forest_importances.plot.bar(ax=ax)\n",
        "fig.tight_layout()"
      ],
      "metadata": {
        "colab": {
          "base_uri": "https://localhost:8080/",
          "height": 487
        },
        "id": "KOmr3u2AyNT3",
        "outputId": "b20bacc9-3cc8-493c-ed69-2db00dd7a4b0"
      },
      "execution_count": 34,
      "outputs": [
        {
          "output_type": "display_data",
          "data": {
            "text/plain": [
              "<Figure size 640x480 with 1 Axes>"
            ],
            "image/png": "[encoded data removed]"
          },
          "metadata": {}
        }
      ]
    },
    {
      "cell_type": "markdown",
      "source": [
        "## XGBoost"
      ],
      "metadata": {
        "id": "_wHKBGpsqr8f"
      }
    },
    {
      "cell_type": "code",
      "source": [
        "# XGBoost doesn't like [] in the feature names so we need to change the names of our columns\n",
        "x_boost = df_combine_copy[featureslist]\n",
        "y_boost = df_combine_copy['Graphical Code Loc Desc'].apply(lambda x: 1 if x == 'DIRT' else 0)\n",
        "\n",
        "x_train_boost, x_test_boost, y_train_boost, y_test_boost = train_test_split(x_boost, y_boost, test_size=0.2)\n",
        "\n",
        "boost = XGBClassifier()\n",
        "boost.fit(x_train_boost, y_train_boost)\n",
        "\n",
        "accuracy = boost.score(x_test_boost, y_test_boost)\n",
        "print(f\"Accuracy on test_set:{accuracy:.3f}\")\n",
        "\n",
        "# Confusion matrix\n",
        "predictions = boost.predict(x_test_boost)\n",
        "\n",
        "cm5 = confusion_matrix(y_test_boost, predictions)\n",
        "\n",
        "ConfusionMatrixDisplay(cm5).plot()\n"
      ],
      "metadata": {
        "colab": {
          "base_uri": "https://localhost:8080/",
          "height": 484
        },
        "id": "pSTprpZsrDO2",
        "outputId": "be582dc0-68fe-45c9-b4e1-d73b84d66214"
      },
      "execution_count": 28,
      "outputs": [
        {
          "output_type": "stream",
          "name": "stdout",
          "text": [
            "Accuracy on test_set:0.747\n"
          ]
        },
        {
          "output_type": "execute_result",
          "data": {
            "text/plain": [
              "<sklearn.metrics._plot.confusion_matrix.ConfusionMatrixDisplay at 0x7a4a9e970be0>"
            ]
          },
          "metadata": {},
          "execution_count": 28
        },
        {
          "output_type": "display_data",
          "data": {
            "text/plain": [
              "<Figure size 640x480 with 2 Axes>"
            ],
            "image/png": "[encoded data removed]"
          },
          "metadata": {}
        }
      ]
    },
    {
      "cell_type": "code",
      "source": [
        "feature_important = boost.get_booster().get_score(importance_type='weight')\n",
        "keys = list(feature_important.keys())\n",
        "values = list(feature_important.values())\n",
        "\n",
        "data = pd.DataFrame(data=values, index=keys, columns=[\"score\"]).sort_values(by = \"score\", ascending=False)\n",
        "data.nlargest(10, columns=\"score\").plot(kind='barh', figsize = (20,10)) ## plot top 10 features"
      ],
      "metadata": {
        "colab": {
          "base_uri": "https://localhost:8080/",
          "height": 490
        },
        "id": "1hyfgnWAsFSv",
        "outputId": "a814df70-139e-4ee3-ad36-6202184223b8"
      },
      "execution_count": 29,
      "outputs": [
        {
          "output_type": "execute_result",
          "data": {
            "text/plain": [
              "<Axes: >"
            ]
          },
          "metadata": {},
          "execution_count": 29
        },
        {
          "output_type": "display_data",
          "data": {
            "text/plain": [
              "<Figure size 2000x1000 with 1 Axes>"
            ],
            "image/png": "[encoded data removed]"
          },
          "metadata": {}
        }
      ]
    }
  ]
}